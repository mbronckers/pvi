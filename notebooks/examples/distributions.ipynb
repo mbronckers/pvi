{
 "cells": [
  {
   "cell_type": "code",
   "execution_count": 1,
   "id": "excited-grenada",
   "metadata": {},
   "outputs": [
    {
     "name": "stderr",
     "output_type": "stream",
     "text": [
      "/homes/mojb2/Thesis/GI-PVI/venv/lib/python3.7/site-packages/tqdm/auto.py:22: TqdmWarning: IProgress not found. Please update jupyter and ipywidgets. See https://ipywidgets.readthedocs.io/en/stable/user_install.html\n",
      "  from .autonotebook import tqdm as notebook_tqdm\n"
     ]
    }
   ],
   "source": [
    "import sys\n",
    "import os\n",
    "\n",
    "module_path = os.path.abspath(os.path.join(\"../..\"))\n",
    "if module_path not in sys.path:\n",
    "    sys.path.append(module_path)\n",
    "\n",
    "from pvi.distributions.base import ExponentialFamilyDistribution\n",
    "from pvi.distributions.exponential_family_distributions import *\n",
    "from pvi.distributions.exponential_family_factors import *\n",
    "\n",
    "import torch"
   ]
  },
  {
   "cell_type": "markdown",
   "id": "rural-playback",
   "metadata": {},
   "source": [
    "# Test t-factors\n",
    "\n",
    "## Mean-field Gaussian Factor"
   ]
  },
  {
   "cell_type": "code",
   "execution_count": 2,
   "id": "under-diary",
   "metadata": {},
   "outputs": [],
   "source": [
    "N = 4\n",
    "D = 2\n",
    "\n",
    "mean = torch.zeros(size=(D,))\n",
    "prec = torch.ones(size=(D,))\n",
    "natural_parameters = {\"np1\" : mean / prec,\n",
    "                      \"np2\" : -0.5 * prec}\n",
    "\n",
    "thetas = torch.ones(size=(N, D))\n",
    "\n",
    "mean_field_gaussian = MeanFieldGaussianFactor(natural_parameters)"
   ]
  },
  {
   "cell_type": "code",
   "execution_count": 3,
   "id": "returning-beverage",
   "metadata": {},
   "outputs": [
    {
     "data": {
      "text/plain": [
       "tensor([-1., -1., -1., -1.])"
      ]
     },
     "execution_count": 3,
     "metadata": {},
     "output_type": "execute_result"
    }
   ],
   "source": [
    "mean_field_gaussian(thetas)"
   ]
  },
  {
   "cell_type": "code",
   "execution_count": 4,
   "id": "clean-percentage",
   "metadata": {},
   "outputs": [
    {
     "name": "stdout",
     "output_type": "stream",
     "text": [
      "tensor([-1.1921e-07, -1.1921e-07])\n"
     ]
    },
    {
     "ename": "AttributeError",
     "evalue": "'Normal' object has no attribute 'nat_params'",
     "output_type": "error",
     "traceback": [
      "\u001b[0;31m---------------------------------------------------------------------------\u001b[0m",
      "\u001b[0;31mAttributeError\u001b[0m                            Traceback (most recent call last)",
      "\u001b[0;32m/tmp/ipykernel_17726/3515761672.py\u001b[0m in \u001b[0;36m<module>\u001b[0;34m\u001b[0m\n\u001b[1;32m      2\u001b[0m \u001b[0mdist2\u001b[0m \u001b[0;34m=\u001b[0m \u001b[0mtorch\u001b[0m\u001b[0;34m.\u001b[0m\u001b[0mdistributions\u001b[0m\u001b[0;34m.\u001b[0m\u001b[0mNormal\u001b[0m\u001b[0;34m(\u001b[0m\u001b[0mloc\u001b[0m\u001b[0;34m=\u001b[0m\u001b[0mmean\u001b[0m\u001b[0;34m,\u001b[0m \u001b[0mscale\u001b[0m\u001b[0;34m=\u001b[0m\u001b[0;34m(\u001b[0m\u001b[0;36m2.\u001b[0m \u001b[0;34m*\u001b[0m \u001b[0mprec\u001b[0m\u001b[0;34m)\u001b[0m \u001b[0;34m**\u001b[0m \u001b[0;34m-\u001b[0m\u001b[0;36m0.5\u001b[0m\u001b[0;34m)\u001b[0m\u001b[0;34m\u001b[0m\u001b[0;34m\u001b[0m\u001b[0m\n\u001b[1;32m      3\u001b[0m \u001b[0mprint\u001b[0m\u001b[0;34m(\u001b[0m\u001b[0;36m0.5\u001b[0m \u001b[0;34m*\u001b[0m \u001b[0;34m(\u001b[0m\u001b[0mdist1\u001b[0m\u001b[0;34m.\u001b[0m\u001b[0mscale\u001b[0m \u001b[0;34m**\u001b[0m \u001b[0;34m-\u001b[0m\u001b[0;36m2\u001b[0m \u001b[0;34m-\u001b[0m \u001b[0mdist2\u001b[0m\u001b[0;34m.\u001b[0m\u001b[0mscale\u001b[0m \u001b[0;34m**\u001b[0m \u001b[0;34m-\u001b[0m\u001b[0;36m2\u001b[0m \u001b[0;34m+\u001b[0m \u001b[0mprec\u001b[0m\u001b[0;34m)\u001b[0m\u001b[0;34m)\u001b[0m\u001b[0;34m\u001b[0m\u001b[0;34m\u001b[0m\u001b[0m\n\u001b[0;32m----> 4\u001b[0;31m \u001b[0mmean_field_gaussian\u001b[0m\u001b[0;34m.\u001b[0m\u001b[0mcompute_refined_factor\u001b[0m\u001b[0;34m(\u001b[0m\u001b[0mdist1\u001b[0m\u001b[0;34m,\u001b[0m \u001b[0mdist2\u001b[0m\u001b[0;34m)\u001b[0m\u001b[0;34m.\u001b[0m\u001b[0mnatural_parameters\u001b[0m\u001b[0;34m\u001b[0m\u001b[0;34m\u001b[0m\u001b[0m\n\u001b[0m",
      "\u001b[0;32m~/Thesis/GI-PVI/venv/lib/python3.7/site-packages/pvi/distributions/base.py\u001b[0m in \u001b[0;36mcompute_refined_factor\u001b[0;34m(self, q1, q2, damping, valid_dist, update_log_coeff)\u001b[0m\n\u001b[1;32m     47\u001b[0m \u001b[0;34m\u001b[0m\u001b[0m\n\u001b[1;32m     48\u001b[0m         \u001b[0;31m# Convert distributions to log-coefficients and natural parameters\u001b[0m\u001b[0;34m\u001b[0m\u001b[0;34m\u001b[0m\u001b[0;34m\u001b[0m\u001b[0m\n\u001b[0;32m---> 49\u001b[0;31m         \u001b[0mnp1\u001b[0m \u001b[0;34m=\u001b[0m \u001b[0mq1\u001b[0m\u001b[0;34m.\u001b[0m\u001b[0mnat_params\u001b[0m\u001b[0;34m\u001b[0m\u001b[0;34m\u001b[0m\u001b[0m\n\u001b[0m\u001b[1;32m     50\u001b[0m         \u001b[0mnp2\u001b[0m \u001b[0;34m=\u001b[0m \u001b[0mq2\u001b[0m\u001b[0;34m.\u001b[0m\u001b[0mnat_params\u001b[0m\u001b[0;34m\u001b[0m\u001b[0;34m\u001b[0m\u001b[0m\n\u001b[1;32m     51\u001b[0m \u001b[0;34m\u001b[0m\u001b[0m\n",
      "\u001b[0;31mAttributeError\u001b[0m: 'Normal' object has no attribute 'nat_params'"
     ]
    }
   ],
   "source": [
    "dist1 = torch.distributions.Normal(loc=mean, scale=prec ** -0.5)\n",
    "dist2 = torch.distributions.Normal(loc=mean, scale=(2. * prec) ** -0.5)\n",
    "print(0.5 * (dist1.scale ** -2 - dist2.scale ** -2 + prec))\n",
    "mean_field_gaussian.compute_refined_factor(dist1, dist2).natural_parameters"
   ]
  },
  {
   "cell_type": "markdown",
   "id": "decreased-surprise",
   "metadata": {},
   "source": [
    "## Multivariate Gaussian factor"
   ]
  },
  {
   "cell_type": "code",
   "execution_count": 5,
   "id": "successful-moses",
   "metadata": {},
   "outputs": [
    {
     "name": "stderr",
     "output_type": "stream",
     "text": [
      "/homes/mojb2/Thesis/GI-PVI/venv/lib/python3.7/site-packages/ipykernel_launcher.py:7: UserWarning: torch.solve is deprecated in favor of torch.linalg.solveand will be removed in a future PyTorch release.\n",
      "torch.linalg.solve has its arguments reversed and does not return the LU factorization.\n",
      "To get the LU factorization see torch.lu, which can be used with torch.lu_solve or torch.lu_unpack.\n",
      "X = torch.solve(B, A).solution\n",
      "should be replaced with\n",
      "X = torch.linalg.solve(A, B) (Triggered internally at  ../aten/src/ATen/native/BatchLinearAlgebra.cpp:859.)\n",
      "  import sys\n"
     ]
    },
    {
     "ename": "TypeError",
     "evalue": "__init__() got an unexpected keyword argument 'natural_parameters'",
     "output_type": "error",
     "traceback": [
      "\u001b[0;31m---------------------------------------------------------------------------\u001b[0m",
      "\u001b[0;31mTypeError\u001b[0m                                 Traceback (most recent call last)",
      "\u001b[0;32m/tmp/ipykernel_17726/2684664889.py\u001b[0m in \u001b[0;36m<module>\u001b[0;34m\u001b[0m\n\u001b[1;32m     10\u001b[0m \u001b[0mthetas\u001b[0m \u001b[0;34m=\u001b[0m \u001b[0mtorch\u001b[0m\u001b[0;34m.\u001b[0m\u001b[0mones\u001b[0m\u001b[0;34m(\u001b[0m\u001b[0msize\u001b[0m\u001b[0;34m=\u001b[0m\u001b[0;34m(\u001b[0m\u001b[0mN\u001b[0m\u001b[0;34m,\u001b[0m \u001b[0mD\u001b[0m\u001b[0;34m)\u001b[0m\u001b[0;34m)\u001b[0m\u001b[0;34m\u001b[0m\u001b[0;34m\u001b[0m\u001b[0m\n\u001b[1;32m     11\u001b[0m \u001b[0;34m\u001b[0m\u001b[0m\n\u001b[0;32m---> 12\u001b[0;31m \u001b[0mmultivariate_gaussian\u001b[0m \u001b[0;34m=\u001b[0m \u001b[0mMultivariateGaussianFactor\u001b[0m\u001b[0;34m(\u001b[0m\u001b[0mnatural_parameters\u001b[0m\u001b[0;34m=\u001b[0m\u001b[0mnatural_parameters\u001b[0m\u001b[0;34m)\u001b[0m\u001b[0;34m\u001b[0m\u001b[0;34m\u001b[0m\u001b[0m\n\u001b[0m",
      "\u001b[0;31mTypeError\u001b[0m: __init__() got an unexpected keyword argument 'natural_parameters'"
     ]
    }
   ],
   "source": [
    "N = 4\n",
    "D = 2\n",
    "\n",
    "log_coefficient = 0.\n",
    "mean = torch.zeros(size=(D,))\n",
    "prec = torch.eye(D)\n",
    "natural_parameters = {\"np1\" : torch.solve(mean[:, None], prec).solution[:, 0],\n",
    "                      \"np2\" : -0.5 * prec}\n",
    "\n",
    "thetas = torch.ones(size=(N, D))\n",
    "\n",
    "multivariate_gaussian = MultivariateGaussianFactor(natural_parameters=natural_parameters)"
   ]
  },
  {
   "cell_type": "code",
   "execution_count": 6,
   "id": "duplicate-wagon",
   "metadata": {},
   "outputs": [
    {
     "ename": "NameError",
     "evalue": "name 'multivariate_gaussian' is not defined",
     "output_type": "error",
     "traceback": [
      "\u001b[0;31m---------------------------------------------------------------------------\u001b[0m",
      "\u001b[0;31mNameError\u001b[0m                                 Traceback (most recent call last)",
      "\u001b[0;32m/tmp/ipykernel_17726/641236724.py\u001b[0m in \u001b[0;36m<module>\u001b[0;34m\u001b[0m\n\u001b[0;32m----> 1\u001b[0;31m \u001b[0mmultivariate_gaussian\u001b[0m\u001b[0;34m(\u001b[0m\u001b[0mthetas\u001b[0m\u001b[0;34m)\u001b[0m\u001b[0;34m\u001b[0m\u001b[0;34m\u001b[0m\u001b[0m\n\u001b[0m",
      "\u001b[0;31mNameError\u001b[0m: name 'multivariate_gaussian' is not defined"
     ]
    }
   ],
   "source": [
    "multivariate_gaussian(thetas)"
   ]
  },
  {
   "cell_type": "code",
   "execution_count": null,
   "id": "abandoned-desktop",
   "metadata": {},
   "outputs": [],
   "source": [
    "N = 4\n",
    "D = 2\n",
    "\n",
    "mean = torch.zeros(size=(D,))\n",
    "L = torch.tensor([[1., 0.],\n",
    "                  [0., 1.]])\n",
    "prec = torch.mm(L, L.T)\n",
    "natural_parameters = {\"np1\" : torch.solve(mean[:, None], prec).solution[:, 0],\n",
    "                      \"np2\" : -0.5 * prec}\n",
    "\n",
    "thetas = torch.ones(size=(N, D))\n",
    "\n",
    "multivariate_gaussian = MultivariateGaussianFactor(natural_parameters=natural_parameters)\n",
    "\n",
    "multivariate_gaussian.distribution_from_np(multivariate_gaussian.natural_parameters).scale_tril"
   ]
  },
  {
   "cell_type": "code",
   "execution_count": null,
   "id": "bulgarian-india",
   "metadata": {},
   "outputs": [],
   "source": [
    "dist1 = torch.distributions.MultivariateNormal(loc=mean, covariance_matrix=torch.inverse(prec))\n",
    "dist2 = torch.distributions.MultivariateNormal(loc=mean, covariance_matrix=torch.inverse(2 * prec))\n",
    "print(-0.5 * (torch.inverse(dist1.covariance_matrix) - torch.inverse(dist2.covariance_matrix) + prec))\n",
    "multivariate_gaussian.compute_refined_factor(dist1, dist2).natural_parameters"
   ]
  },
  {
   "cell_type": "markdown",
   "id": "higher-manchester",
   "metadata": {},
   "source": [
    "# Test distribution base classes\n",
    "\n",
    "## Mean Field Gaussian"
   ]
  },
  {
   "cell_type": "code",
   "execution_count": null,
   "id": "suffering-allah",
   "metadata": {},
   "outputs": [],
   "source": [
    "N = 4\n",
    "D = 2\n",
    "\n",
    "mean = torch.zeros(size=(D,))\n",
    "scale = torch.ones(size=(D,))\n",
    "\n",
    "sp = {\n",
    "    \"sp1\" : mean,\n",
    "    \"sp2\" : scale\n",
    "    \n",
    "}\n",
    "\n",
    "mfgd = MeanFieldGaussianDistribution(std_params=sp,\n",
    "                                     nat_params=None,\n",
    "                                     is_trainable=True)\n",
    "\n",
    "mfgd.rsample().sum().backward()\n",
    "mfgd._unc_params[\"up2\"].grad"
   ]
  },
  {
   "cell_type": "markdown",
   "id": "bridal-today",
   "metadata": {},
   "source": [
    "# Multivariate Gaussian"
   ]
  },
  {
   "cell_type": "code",
   "execution_count": null,
   "id": "guilty-double",
   "metadata": {},
   "outputs": [],
   "source": [
    "N = 4\n",
    "D = 2\n",
    "\n",
    "mean = torch.zeros(size=(D,))\n",
    "cov = torch.eye(D)\n",
    "\n",
    "sp = {\n",
    "    \"sp1\" : mean,\n",
    "    \"sp2\" : cov\n",
    "    \n",
    "}\n",
    "\n",
    "mvgd = MultivariateGaussianDistribution(std_params=sp,\n",
    "                                        nat_params=None,\n",
    "                                        is_trainable=True)\n",
    "\n",
    "mvgd.rsample().sum().backward()"
   ]
  },
  {
   "cell_type": "code",
   "execution_count": null,
   "id": "industrial-pharmaceutical",
   "metadata": {},
   "outputs": [],
   "source": [
    "mean = torch.zeros(size=(D,))\n",
    "cov = torch.eye(D)\n",
    "\n",
    "d1 = torch.distributions.MultivariateNormal(loc=mean, covariance_matrix=cov)\n",
    "d2 = torch.distributions.MultivariateNormal(loc=mean, covariance_matrix=cov)\n",
    "\n",
    "torch.distributions.kl_divergence(d1, d2)"
   ]
  },
  {
   "cell_type": "code",
   "execution_count": null,
   "id": "molecular-initial",
   "metadata": {},
   "outputs": [],
   "source": [
    "torch.distributions.Dirichlet(torch.tensor([0.5, 1e-6]))._natural_params"
   ]
  },
  {
   "cell_type": "markdown",
   "id": "funky-cutting",
   "metadata": {},
   "source": [
    "## Dirichlet distribution"
   ]
  },
  {
   "cell_type": "code",
   "execution_count": null,
   "id": "compressed-accused",
   "metadata": {},
   "outputs": [],
   "source": [
    "D = 4\n",
    "\n",
    "conc = torch.zeros(size=(D,)).uniform_()\n",
    "\n",
    "sp = {\"sp1\" : conc}\n",
    "\n",
    "dird = DirichletDistribution(std_params=sp,\n",
    "                             nat_params=None,\n",
    "                             is_trainable=False)\n",
    "\n",
    "dird.kl_divergence(dird)"
   ]
  },
  {
   "cell_type": "markdown",
   "id": "collectible-homework",
   "metadata": {},
   "source": [
    "# Multinomial distribution"
   ]
  },
  {
   "cell_type": "code",
   "execution_count": null,
   "id": "hydraulic-german",
   "metadata": {},
   "outputs": [],
   "source": [
    "D = 10\n",
    "\n",
    "p = torch.zeros(size=(D,)).uniform_()\n",
    "p = p / p.sum()\n",
    "\n",
    "sp = {\n",
    "    \"sp1\" : N,\n",
    "    \"sp2\" : p\n",
    "}\n",
    "\n",
    "muld = MultinomialDistribution(std_params=sp,\n",
    "                               nat_params=None,\n",
    "                               is_trainable=False)\n",
    "\n",
    "muld.sample()"
   ]
  }
 ],
 "metadata": {
  "kernelspec": {
   "display_name": "Python3.7",
   "language": "python",
   "name": "venv"
  },
  "language_info": {
   "codemirror_mode": {
    "name": "ipython",
    "version": 3
   },
   "file_extension": ".py",
   "mimetype": "text/x-python",
   "name": "python",
   "nbconvert_exporter": "python",
   "pygments_lexer": "ipython3",
   "version": "3.7.12"
  }
 },
 "nbformat": 4,
 "nbformat_minor": 5
}
