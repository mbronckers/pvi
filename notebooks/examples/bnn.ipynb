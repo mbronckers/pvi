{
 "cells": [
  {
   "cell_type": "code",
   "execution_count": 1,
   "id": "9ea6efcd",
   "metadata": {},
   "outputs": [],
   "source": [
    "%load_ext autoreload\n",
    "%autoreload 2"
   ]
  },
  {
   "cell_type": "code",
   "execution_count": 10,
   "id": "breeding-grove",
   "metadata": {},
   "outputs": [],
   "source": [
    "import os\n",
    "import sys\n",
    "from pathlib import Path\n",
    "\n",
    "import torch\n",
    "import torch.utils.data\n",
    "from torchvision import transforms, datasets\n",
    "import numpy as np\n",
    "import matplotlib.pyplot as plt\n",
    "\n",
    "import pvi\n",
    "from pvi.models import ClassificationBNNLocalRepam, ClassificationBNN\n",
    "from pvi.clients import Client\n",
    "from pvi.servers import SequentialServer\n",
    "from pvi.distributions import MeanFieldGaussianDistribution, MeanFieldGaussianFactor\n",
    "from pvi.utils.training_utils import EarlyStopping\n",
    "from tqdm.auto import tqdm\n",
    "import logging"
   ]
  },
  {
   "cell_type": "code",
   "execution_count": 3,
   "id": "bb755dc9",
   "metadata": {},
   "outputs": [],
   "source": [
    "logger = logging.getLogger(__name__)\n",
    "logger.setLevel(logging.DEBUG)"
   ]
  },
  {
   "cell_type": "code",
   "execution_count": 4,
   "id": "435545ad-fcfd-45d0-a1cd-18239fc50e49",
   "metadata": {},
   "outputs": [],
   "source": [
    "data_dir = Path(\"../../data/\")\n",
    "cache_dir = Path(\"../../cache\")"
   ]
  },
  {
   "cell_type": "code",
   "execution_count": 5,
   "id": "2a299e2d",
   "metadata": {},
   "outputs": [],
   "source": [
    "import bayesfunc\n",
    "from bayesfunc import GILinear"
   ]
  },
  {
   "cell_type": "markdown",
   "id": "54a3148a-a47d-48e5-b7c6-ad151426b14d",
   "metadata": {},
   "source": [
    "## Define various functions for splitting data and recording performance metrics."
   ]
  },
  {
   "cell_type": "code",
   "execution_count": 6,
   "id": "f50d7529-98c4-4e24-b2ed-da080394cc4e",
   "metadata": {},
   "outputs": [],
   "source": [
    "# Data splitting functions.\n",
    "def homogeneous_split(data, num_clients=100, seed=42):\n",
    "    # Set numpy's random seed.\n",
    "    np.random.seed(seed)\n",
    "    \n",
    "    perm = np.random.permutation(len(data[\"x\"]))\n",
    "    client_data = []\n",
    "    for i in range(num_clients):\n",
    "        client_idx = perm[i::num_clients]\n",
    "        client_data.append({\"x\": data[\"x\"][client_idx], \"y\": data[\"y\"][client_idx]})\n",
    "    \n",
    "    return client_data\n",
    "\n",
    "\n",
    "# Performance metric function.\n",
    "def performance_metrics(client, data, batch_size=512):\n",
    "    dataset = torch.utils.data.TensorDataset(data[\"x\"], data[\"y\"])\n",
    "    loader = torch.utils.data.DataLoader(dataset, batch_size=512, shuffle=False)\n",
    "    \n",
    "    device = client.config[\"device\"]\n",
    "    \n",
    "    if device == \"cuda\":\n",
    "        loader.pin_memory = True\n",
    "        \n",
    "    preds, mlls = [], []\n",
    "    for (x_batch, y_batch) in loader:\n",
    "        x_batch, y_batch = x_batch.to(device), y_batch.to(device)\n",
    "        \n",
    "        pp = client.model_predict(x_batch)\n",
    "        preds.append(pp.component_distribution.probs.mean(1).cpu())\n",
    "        mlls.append(pp.log_prob(y_batch).cpu())\n",
    "        \n",
    "    mll = torch.cat(mlls).mean()\n",
    "    preds = torch.cat(preds)\n",
    "    acc = sum(torch.argmax(preds, dim=-1) == loader.dataset.tensors[1]) / len(\n",
    "        loader.dataset.tensors[1]\n",
    "    )\n",
    "    \n",
    "    return {\"mll\": mll, \"acc\": acc}"
   ]
  },
  {
   "cell_type": "markdown",
   "id": "99665737-174b-4c35-80f6-1587d6218f90",
   "metadata": {},
   "source": [
    "## Data preprocessing"
   ]
  },
  {
   "cell_type": "code",
   "execution_count": 7,
   "id": "eba7ac03-a22b-4427-b61d-e6a116b21826",
   "metadata": {},
   "outputs": [],
   "source": [
    "transform_train = transforms.Compose([transforms.ToTensor()])\n",
    "transform_test = transforms.Compose([transforms.ToTensor()])\n",
    "\n",
    "train_set = datasets.MNIST(root=data_dir, train=True, download=True, transform=transform_train)\n",
    "test_set = datasets.MNIST(root=data_dir, train=False, download=True, transform=transform_test)\n",
    "\n",
    "train_data = {\n",
    "    \"x\": ((train_set.data - 0) / 255).reshape(-1, 28 * 28),\n",
    "    \"y\": train_set.targets,\n",
    "}\n",
    "\n",
    "test_data = {\n",
    "    \"x\": ((test_set.data - 0) / 255).reshape(-1, 28 * 28),\n",
    "    \"y\": test_set.targets,\n",
    "}"
   ]
  },
  {
   "cell_type": "code",
   "execution_count": 8,
   "id": "0c5e7f50-4b69-4cf7-baea-4fd18076d6c8",
   "metadata": {},
   "outputs": [],
   "source": [
    "# Get client splits.\n",
    "client_data = homogeneous_split(train_data, 10, seed=42)"
   ]
  },
  {
   "cell_type": "markdown",
   "id": "494906de-3e8e-4c61-bfa6-100ba7501926",
   "metadata": {},
   "source": [
    "## Define configuration for server and clients"
   ]
  },
  {
   "cell_type": "code",
   "execution_count": 9,
   "id": "0d7682e6-5891-40f6-940d-171616bae48b",
   "metadata": {},
   "outputs": [],
   "source": [
    "model_config = {\n",
    "    \"input_dim\": 784,\n",
    "    \"latent_dim\": 200,\n",
    "    \"output_dim\": 10,\n",
    "    \"num_layers\": 1,\n",
    "    \"num_predictive_samples\": 100,\n",
    "    \"prior_var\": 1.0,\n",
    "}\n",
    "\n",
    "client_config = {\n",
    "    \"damping_factor\": 1.0, # damping of approx lls to get a proper q distrib\n",
    "    \"optimiser\": \"Adam\",\n",
    "    \"optimiser_params\": {\"lr\": 2e-3},\n",
    "    \"sigma_optimiser_params\": {\"lr\": 2e-3},\n",
    "    \"early_stopping\": EarlyStopping(5, score_name=\"elbo\", stash_model=True),\n",
    "    \"performance_metrics\": performance_metrics,\n",
    "    \"batch_size\": 512,\n",
    "    \"epochs\": 1000,\n",
    "    \"print_epochs\": np.inf,\n",
    "    \"num_elbo_samples\": 10,\n",
    "    \"valid_factors\": False,\n",
    "    \"device\": \"cuda\",\n",
    "    \"init_var\": 1e-3,\n",
    "    \"verbose\": True,\n",
    "}\n",
    "\n",
    "server_config = {\n",
    "    **client_config,\n",
    "    \"max_iterations\": 10\n",
    "}"
   ]
  },
  {
   "cell_type": "markdown",
   "id": "196ce95c-3c55-496d-922f-997bb5d049b2",
   "metadata": {},
   "source": [
    "## Set up model etc."
   ]
  },
  {
   "cell_type": "code",
   "execution_count": 17,
   "id": "908a6692",
   "metadata": {},
   "outputs": [
    {
     "data": {
      "text/plain": [
       "torch.Size([6000, 784])"
      ]
     },
     "execution_count": 17,
     "metadata": {},
     "output_type": "execute_result"
    }
   ],
   "source": [
    "client_data[0]['x'].shape"
   ]
  },
  {
   "cell_type": "code",
   "execution_count": 20,
   "id": "b3c702ec",
   "metadata": {},
   "outputs": [],
   "source": [
    "input_sample = client_data[0]['x'][0]"
   ]
  },
  {
   "cell_type": "code",
   "execution_count": 26,
   "id": "c8d88b94",
   "metadata": {},
   "outputs": [
    {
     "data": {
      "text/plain": [
       "MixtureSameFamily(\n",
       "  Categorical(logits: torch.Size([1, 100])),\n",
       "  Categorical(logits: torch.Size([1, 100, 10])))"
      ]
     },
     "execution_count": 26,
     "metadata": {},
     "output_type": "execute_result"
    }
   ],
   "source": [
    "model.forward(input_sample.to(device), init_q)"
   ]
  },
  {
   "cell_type": "code",
   "execution_count": 13,
   "id": "ae71b9e9-5686-478d-9086-0a06a268a854",
   "metadata": {},
   "outputs": [],
   "source": [
    "device = server_config[\"device\"]\n",
    "\n",
    "model = ClassificationBNNLocalRepam(config=model_config)\n",
    "# model = ClassificationBNN(config=model_config)\n",
    "\n",
    "# Initial parameters.\n",
    "init_q_std_params = {\n",
    "    \"loc\": torch.zeros(size=(model.num_parameters,)).to(device).uniform_(-0.1, 0.1),\n",
    "    \"scale\": torch.ones(size=(model.num_parameters,)).to(device) \n",
    "    * client_config[\"init_var\"] ** 0.5,\n",
    "}\n",
    "\n",
    "prior_std_params = {\n",
    "    \"loc\": torch.zeros(size=(model.num_parameters,)).to(device),\n",
    "    \"scale\": model_config[\"prior_var\"] ** 0.5 \n",
    "    * torch.ones(size=(model.num_parameters,)).to(device),\n",
    "}\n",
    "\n",
    "init_factor_nat_params = {\n",
    "    \"np1\": torch.zeros(model.num_parameters).to(device),\n",
    "    \"np2\": torch.zeros(model.num_parameters).to(device),\n",
    "}\n",
    "\n",
    "p = MeanFieldGaussianDistribution(\n",
    "    std_params=prior_std_params, is_trainable=False\n",
    ")\n",
    "init_q = MeanFieldGaussianDistribution(\n",
    "    std_params=init_q_std_params, is_trainable=False\n",
    ")\n",
    "\n",
    "clients = []\n",
    "for i in range(10):\n",
    "    data_i = client_data[i]\n",
    "    t_i = MeanFieldGaussianFactor(nat_params=init_factor_nat_params)\n",
    "    clients.append(\n",
    "        Client(\n",
    "            data=data_i,\n",
    "            model=model,\n",
    "            t=t_i,\n",
    "            config=client_config,\n",
    "            val_data=test_data\n",
    "        )\n",
    "    )\n",
    "    \n",
    "server = SequentialServer(model=model, p=p, clients=clients, config=server_config, init_q=init_q, data=train_data, val_data=test_data)"
   ]
  },
  {
   "cell_type": "markdown",
   "id": "c8db69f6-b2ae-419a-b8f3-1efb8dc8bcda",
   "metadata": {},
   "source": [
    "## Run PVI!"
   ]
  },
  {
   "cell_type": "code",
   "execution_count": 33,
   "id": "0b3eba62",
   "metadata": {},
   "outputs": [],
   "source": [
    "compiled_log = server.get_compiled_log()"
   ]
  },
  {
   "cell_type": "code",
   "execution_count": 41,
   "id": "72d46632",
   "metadata": {},
   "outputs": [
    {
     "data": {
      "text/plain": [
       "[<matplotlib.lines.Line2D at 0x7fbe6c115190>]"
      ]
     },
     "execution_count": 41,
     "metadata": {},
     "output_type": "execute_result"
    },
    {
     "data": {
      "image/png": "[encoded data removed]",
      "text/plain": [
       "<Figure size 432x288 with 1 Axes>"
      ]
     },
     "metadata": {
      "needs_background": "light"
     },
     "output_type": "display_data"
    }
   ],
   "source": [
    "# Training ELBO across iterations of Client 0\n",
    "training_elbo = []\n",
    "for dd in compiled_log['client_0']['training_curves']:\n",
    "    training_elbo.extend(dd['elbo'])\n",
    "\n",
    "plt.plot(training_elbo)"
   ]
  },
  {
   "cell_type": "code",
   "execution_count": 14,
   "id": "dc1f6b1f-6da0-460c-8a6b-032288230f62",
   "metadata": {},
   "outputs": [
    {
     "name": "stderr",
     "output_type": "stream",
     "text": [
      "Epoch:  39%|███▉      | 392/1000 [00:35<00:55, 11.01it/s, elbo=-1.29, kl=0.95, ll=-.345, logt=0, lr=0.002]\n",
      "Epoch:   4%|▍         | 41/1000 [00:03<01:25, 11.21it/s, elbo=0.642, kl=-.891, ll=-.249, logt=0, lr=0.002]\n",
      "Epoch:   3%|▎         | 28/1000 [00:02<01:29, 10.89it/s, elbo=1.65, kl=-1.84, ll=-.191, logt=0, lr=0.002]\n",
      "Epoch:   3%|▎         | 33/1000 [00:02<01:26, 11.15it/s, elbo=2.48, kl=-2.68, ll=-.194, logt=0, lr=0.002]\n",
      "Epoch:   3%|▎         | 29/1000 [00:02<01:27, 11.15it/s, elbo=3.61, kl=-3.78, ll=-.164, logt=0, lr=0.002]\n",
      "Epoch:   2%|▎         | 25/1000 [00:02<01:27, 11.13it/s, elbo=4.8, kl=-4.96, ll=-.163, logt=0, lr=0.002]\n",
      "Epoch:   3%|▎         | 32/1000 [00:02<01:27, 11.05it/s, elbo=6, kl=-6.13, ll=-.128, logt=0, lr=0.002]\n",
      "Epoch:   3%|▎         | 34/1000 [00:03<01:26, 11.19it/s, elbo=7.39, kl=-7.52, ll=-.13, logt=0, lr=0.002]\n",
      "Epoch:   2%|▏         | 16/1000 [00:01<01:30, 10.87it/s, elbo=8.82, kl=-8.94, ll=-.12, logt=0, lr=0.002]\n",
      "Epoch:   3%|▎         | 30/1000 [00:02<01:28, 10.92it/s, elbo=9.87, kl=-9.99, ll=-.126, logt=0, lr=0.002]\n",
      "                       \r"
     ]
    },
    {
     "name": "stdout",
     "output_type": "stream",
     "text": [
      "Test mll: -0.098. Test acc: 0.970. Train mll: -0.089. Train acc: 0.975 \n"
     ]
    },
    {
     "name": "stderr",
     "output_type": "stream",
     "text": [
      "Epoch:   2%|▎         | 25/1000 [00:02<01:30, 10.82it/s, elbo=9.09, kl=-9.23, ll=-.138, logt=0, lr=0.002]\n",
      "Epoch:   2%|▏         | 19/1000 [00:01<01:30, 10.84it/s, elbo=10.1, kl=-10.2, ll=-.135, logt=0, lr=0.002]\n",
      "Epoch:   2%|▎         | 25/1000 [00:02<01:29, 10.91it/s, elbo=10.9, kl=-11, ll=-.116, logt=0, lr=0.002]\n",
      "Epoch:   3%|▎         | 26/1000 [00:02<01:27, 11.08it/s, elbo=11.4, kl=-11.6, ll=-.142, logt=0, lr=0.002]\n",
      "Epoch:   2%|▏         | 20/1000 [00:01<01:31, 10.76it/s, elbo=11.9, kl=-12, ll=-.134, logt=0, lr=0.002]\n",
      "Epoch:   3%|▎         | 28/1000 [00:02<01:27, 11.05it/s, elbo=12.4, kl=-12.6, ll=-.135, logt=0, lr=0.002]\n",
      "Epoch:   2%|▏         | 15/1000 [00:01<01:34, 10.41it/s, elbo=12.9, kl=-13, ll=-.116, logt=0, lr=0.002]\n",
      "Epoch:   1%|          | 8/1000 [00:00<01:37, 10.12it/s, elbo=13.2, kl=-13.3, ll=-.13, logt=0, lr=0.002]\n",
      "Epoch:   1%|          | 11/1000 [00:01<01:32, 10.66it/s, elbo=13.7, kl=-13.8, ll=-.116, logt=0, lr=0.002]\n",
      "Epoch:   2%|▏         | 15/1000 [00:01<01:34, 10.46it/s, elbo=13.7, kl=-13.8, ll=-.125, logt=0, lr=0.002]\n",
      "                       \r"
     ]
    },
    {
     "name": "stdout",
     "output_type": "stream",
     "text": [
      "Test mll: -0.090. Test acc: 0.974. Train mll: -0.080. Train acc: 0.979 \n"
     ]
    },
    {
     "name": "stderr",
     "output_type": "stream",
     "text": [
      "Epoch:   3%|▎         | 28/1000 [00:02<01:27, 11.10it/s, elbo=13.4, kl=-13.5, ll=-.128, logt=0, lr=0.002]\n",
      "Epoch:   1%|          | 7/1000 [00:00<01:40,  9.89it/s, elbo=13.5, kl=-13.6, ll=-.133, logt=0, lr=0.002]\n",
      "Epoch:   2%|▏         | 19/1000 [00:01<01:30, 10.87it/s, elbo=13.6, kl=-13.7, ll=-.119, logt=0, lr=0.002]\n",
      "Epoch:   2%|▏         | 16/1000 [00:01<01:29, 10.94it/s, elbo=13.7, kl=-13.9, ll=-.134, logt=0, lr=0.002]\n",
      "Epoch:   1%|          | 9/1000 [00:00<01:37, 10.21it/s, elbo=13.8, kl=-13.9, ll=-.134, logt=0, lr=0.002]\n",
      "Epoch:   1%|          | 10/1000 [00:00<01:38, 10.02it/s, elbo=13.8, kl=-13.9, ll=-.135, logt=0, lr=0.002]\n",
      "Epoch:   2%|▏         | 15/1000 [00:01<01:33, 10.52it/s, elbo=13.9, kl=-14, ll=-.114, logt=0, lr=0.002]\n",
      "Epoch:   1%|          | 11/1000 [00:01<01:36, 10.23it/s, elbo=14.2, kl=-14.4, ll=-.121, logt=0, lr=0.002]\n",
      "Epoch:   1%|          | 11/1000 [00:01<01:36, 10.29it/s, elbo=14.5, kl=-14.6, ll=-.112, logt=0, lr=0.002]\n",
      "Epoch:   2%|▏         | 15/1000 [00:01<01:33, 10.58it/s, elbo=14.5, kl=-14.6, ll=-.119, logt=0, lr=0.002]\n",
      "                       \r"
     ]
    },
    {
     "name": "stdout",
     "output_type": "stream",
     "text": [
      "Test mll: -0.088. Test acc: 0.975. Train mll: -0.077. Train acc: 0.981 \n"
     ]
    },
    {
     "name": "stderr",
     "output_type": "stream",
     "text": [
      "Epoch:   2%|▏         | 17/1000 [00:01<01:33, 10.49it/s, elbo=14.5, kl=-14.6, ll=-.115, logt=0, lr=0.002]\n",
      "Epoch:   1%|          | 11/1000 [00:01<01:32, 10.65it/s, elbo=14.6, kl=-14.7, ll=-.125, logt=0, lr=0.002]\n",
      "Epoch:   1%|▏         | 13/1000 [00:01<01:33, 10.52it/s, elbo=14.7, kl=-14.8, ll=-.114, logt=0, lr=0.002]\n",
      "Epoch:   2%|▏         | 15/1000 [00:01<01:33, 10.56it/s, elbo=14.7, kl=-14.9, ll=-.138, logt=0, lr=0.002]\n",
      "Epoch:   1%|          | 11/1000 [00:01<01:30, 10.95it/s, elbo=14.8, kl=-15, ll=-.132, logt=0, lr=0.002]\n",
      "Epoch:   1%|          | 10/1000 [00:00<01:38, 10.10it/s, elbo=14.9, kl=-15.1, ll=-.135, logt=0, lr=0.002]\n",
      "Epoch:   1%|          | 8/1000 [00:00<01:34, 10.53it/s, elbo=15, kl=-15.1, ll=-.115, logt=0, lr=0.002]\n",
      "Epoch:   2%|▏         | 15/1000 [00:01<01:33, 10.56it/s, elbo=15.2, kl=-15.3, ll=-.123, logt=0, lr=0.002]\n",
      "Epoch:   2%|▏         | 17/1000 [00:01<01:34, 10.38it/s, elbo=15.5, kl=-15.6, ll=-.109, logt=0, lr=0.002]\n",
      "Epoch:   1%|          | 12/1000 [00:01<01:36, 10.22it/s, elbo=15.6, kl=-15.7, ll=-.117, logt=0, lr=0.002]\n",
      "                       \r"
     ]
    },
    {
     "name": "stdout",
     "output_type": "stream",
     "text": [
      "Test mll: -0.087. Test acc: 0.975. Train mll: -0.075. Train acc: 0.981 \n"
     ]
    },
    {
     "name": "stderr",
     "output_type": "stream",
     "text": [
      "Epoch:   2%|▏         | 16/1000 [00:01<01:31, 10.76it/s, elbo=15.6, kl=-15.7, ll=-.115, logt=0, lr=0.002]\n",
      "Epoch:   2%|▏         | 17/1000 [00:01<01:31, 10.79it/s, elbo=15.6, kl=-15.8, ll=-.117, logt=0, lr=0.002]\n",
      "Epoch:   1%|▏         | 13/1000 [00:01<01:32, 10.68it/s, elbo=15.8, kl=-15.9, ll=-.112, logt=0, lr=0.002]\n",
      "Epoch:   1%|          | 11/1000 [00:01<01:32, 10.71it/s, elbo=15.8, kl=-16, ll=-.136, logt=0, lr=0.002]\n",
      "Epoch:   2%|▏         | 18/1000 [00:01<01:32, 10.66it/s, elbo=15.9, kl=-16.1, ll=-.124, logt=0, lr=0.002]\n",
      "Epoch:   2%|▏         | 15/1000 [00:01<01:30, 10.90it/s, elbo=16.1, kl=-16.2, ll=-.133, logt=0, lr=0.002]\n",
      "Epoch:   2%|▏         | 15/1000 [00:01<01:33, 10.58it/s, elbo=16.2, kl=-16.4, ll=-.11, logt=0, lr=0.002]\n",
      "Epoch:   1%|          | 10/1000 [00:00<01:34, 10.44it/s, elbo=16.4, kl=-16.5, ll=-.118, logt=0, lr=0.002]\n",
      "Epoch:   1%|          | 10/1000 [00:00<01:31, 10.84it/s, elbo=16.5, kl=-16.6, ll=-.107, logt=0, lr=0.002]\n",
      "Epoch:   1%|          | 12/1000 [00:01<01:34, 10.50it/s, elbo=16.6, kl=-16.7, ll=-.116, logt=0, lr=0.002]\n",
      "                       \r"
     ]
    },
    {
     "name": "stdout",
     "output_type": "stream",
     "text": [
      "Test mll: -0.085. Test acc: 0.976. Train mll: -0.073. Train acc: 0.982 \n"
     ]
    },
    {
     "name": "stderr",
     "output_type": "stream",
     "text": [
      "Epoch:   1%|          | 12/1000 [00:01<01:35, 10.37it/s, elbo=16.7, kl=-16.8, ll=-.113, logt=0, lr=0.002]\n",
      "Epoch:   1%|          | 9/1000 [00:00<01:36, 10.31it/s, elbo=16.6, kl=-16.7, ll=-.115, logt=0, lr=0.002]\n",
      "Epoch:   1%|▏         | 13/1000 [00:01<01:33, 10.58it/s, elbo=16.6, kl=-16.7, ll=-.11, logt=0, lr=0.002]\n",
      "Epoch:   1%|          | 12/1000 [00:01<01:32, 10.67it/s, elbo=16.6, kl=-16.7, ll=-.132, logt=0, lr=0.002]\n",
      "Epoch:   1%|          | 9/1000 [00:00<01:35, 10.43it/s, elbo=16.5, kl=-16.7, ll=-.129, logt=0, lr=0.002]\n",
      "Epoch:   1%|          | 11/1000 [00:01<01:33, 10.60it/s, elbo=16.6, kl=-16.7, ll=-.131, logt=0, lr=0.002]\n",
      "Epoch:   1%|          | 10/1000 [00:00<01:38, 10.05it/s, elbo=16.6, kl=-16.7, ll=-.113, logt=0, lr=0.002]\n",
      "Epoch:   2%|▏         | 17/1000 [00:01<01:29, 10.95it/s, elbo=16.8, kl=-16.9, ll=-.117, logt=0, lr=0.002]\n",
      "Epoch:   1%|          | 11/1000 [00:01<01:38, 10.02it/s, elbo=16.8, kl=-16.9, ll=-.107, logt=0, lr=0.002]\n",
      "Epoch:   2%|▏         | 24/1000 [00:02<01:29, 10.85it/s, elbo=16.9, kl=-17, ll=-.116, logt=0, lr=0.002]\n",
      "                       \r"
     ]
    },
    {
     "name": "stdout",
     "output_type": "stream",
     "text": [
      "Test mll: -0.084. Test acc: 0.975. Train mll: -0.072. Train acc: 0.982 \n"
     ]
    },
    {
     "name": "stderr",
     "output_type": "stream",
     "text": [
      "Epoch:   2%|▏         | 16/1000 [00:01<01:33, 10.48it/s, elbo=17, kl=-17.1, ll=-.112, logt=0, lr=0.002]\n",
      "Epoch:   1%|          | 9/1000 [00:00<01:41,  9.76it/s, elbo=17.1, kl=-17.2, ll=-.116, logt=0, lr=0.002]\n",
      "Epoch:   1%|          | 9/1000 [00:00<01:33, 10.57it/s, elbo=17.1, kl=-17.2, ll=-.112, logt=0, lr=0.002]\n",
      "Epoch:   1%|          | 11/1000 [00:01<01:34, 10.48it/s, elbo=17, kl=-17.1, ll=-.136, logt=0, lr=0.002]\n",
      "Epoch:   1%|          | 10/1000 [00:01<01:40,  9.83it/s, elbo=17, kl=-17.1, ll=-.124, logt=0, lr=0.002]\n",
      "Epoch:   1%|▏         | 13/1000 [00:01<01:30, 10.91it/s, elbo=17, kl=-17.2, ll=-.13, logt=0, lr=0.002]\n",
      "Epoch:   1%|          | 12/1000 [00:01<01:38, 10.00it/s, elbo=17.1, kl=-17.2, ll=-.113, logt=0, lr=0.002]\n",
      "Epoch:   1%|          | 12/1000 [00:01<01:33, 10.56it/s, elbo=17.2, kl=-17.3, ll=-.119, logt=0, lr=0.002]\n",
      "Epoch:   1%|          | 11/1000 [00:01<01:35, 10.35it/s, elbo=17.3, kl=-17.4, ll=-.109, logt=0, lr=0.002]\n",
      "Epoch:   1%|          | 8/1000 [00:00<01:36, 10.27it/s, elbo=17.4, kl=-17.6, ll=-.117, logt=0, lr=0.002]\n",
      "                       \r"
     ]
    },
    {
     "name": "stdout",
     "output_type": "stream",
     "text": [
      "Test mll: -0.085. Test acc: 0.976. Train mll: -0.071. Train acc: 0.983 \n"
     ]
    },
    {
     "name": "stderr",
     "output_type": "stream",
     "text": [
      "Epoch:   2%|▏         | 16/1000 [00:01<01:33, 10.55it/s, elbo=17.4, kl=-17.5, ll=-.113, logt=0, lr=0.002]\n",
      "Epoch:   1%|          | 11/1000 [00:01<01:31, 10.77it/s, elbo=17.5, kl=-17.6, ll=-.113, logt=0, lr=0.002]\n",
      "Epoch:   1%|          | 11/1000 [00:01<01:37, 10.17it/s, elbo=17.4, kl=-17.5, ll=-.104, logt=0, lr=0.002]\n",
      "Epoch:   1%|          | 10/1000 [00:01<01:39,  9.91it/s, elbo=17.3, kl=-17.4, ll=-.134, logt=0, lr=0.002]\n",
      "Epoch:   1%|▏         | 13/1000 [00:01<01:33, 10.53it/s, elbo=17.2, kl=-17.3, ll=-.123, logt=0, lr=0.002]\n",
      "Epoch:   2%|▏         | 23/1000 [00:02<01:29, 10.96it/s, elbo=17.3, kl=-17.4, ll=-.125, logt=0, lr=0.002]\n",
      "Epoch:   1%|          | 10/1000 [00:00<01:34, 10.44it/s, elbo=17.3, kl=-17.4, ll=-.112, logt=0, lr=0.002]\n",
      "Epoch:   1%|          | 9/1000 [00:00<01:40,  9.88it/s, elbo=17.3, kl=-17.4, ll=-.117, logt=0, lr=0.002]\n",
      "Epoch:   1%|          | 11/1000 [00:01<01:37, 10.15it/s, elbo=17.3, kl=-17.4, ll=-.106, logt=0, lr=0.002]\n",
      "Epoch:   1%|          | 7/1000 [00:00<01:34, 10.49it/s, elbo=17.5, kl=-17.6, ll=-.115, logt=0, lr=0.002]\n",
      "                       \r"
     ]
    },
    {
     "name": "stdout",
     "output_type": "stream",
     "text": [
      "Test mll: -0.084. Test acc: 0.976. Train mll: -0.070. Train acc: 0.983 \n"
     ]
    },
    {
     "name": "stderr",
     "output_type": "stream",
     "text": [
      "Epoch:   2%|▏         | 17/1000 [00:01<01:30, 10.80it/s, elbo=17.5, kl=-17.6, ll=-.111, logt=0, lr=0.002]\n",
      "Epoch:   1%|▏         | 14/1000 [00:01<01:35, 10.31it/s, elbo=17.6, kl=-17.7, ll=-.111, logt=0, lr=0.002]\n",
      "Epoch:   1%|          | 11/1000 [00:01<01:32, 10.71it/s, elbo=17.7, kl=-17.8, ll=-.101, logt=0, lr=0.002]\n",
      "Epoch:   1%|          | 10/1000 [00:01<01:39, 10.00it/s, elbo=17.6, kl=-17.7, ll=-.124, logt=0, lr=0.002]\n",
      "Epoch:   2%|▏         | 20/1000 [00:01<01:29, 10.97it/s, elbo=17.4, kl=-17.5, ll=-.12, logt=0, lr=0.002]\n",
      "Epoch:   1%|▏         | 13/1000 [00:01<01:32, 10.63it/s, elbo=17.4, kl=-17.5, ll=-.127, logt=0, lr=0.002]\n",
      "Epoch:   1%|▏         | 13/1000 [00:01<01:34, 10.45it/s, elbo=17.6, kl=-17.7, ll=-.108, logt=0, lr=0.002]\n",
      "Epoch:   1%|          | 7/1000 [00:00<01:58,  8.38it/s, elbo=17.5, kl=-17.6, ll=-.115, logt=0, lr=0.002]\n",
      "Epoch:   2%|▏         | 17/1000 [00:01<01:45,  9.34it/s, elbo=17.5, kl=-17.6, ll=-.107, logt=0, lr=0.002]\n",
      "Epoch:   1%|          | 11/1000 [00:00<01:29, 11.07it/s, elbo=17.6, kl=-17.8, ll=-.114, logt=0, lr=0.002]\n",
      "                       \r"
     ]
    },
    {
     "name": "stdout",
     "output_type": "stream",
     "text": [
      "Test mll: -0.083. Test acc: 0.976. Train mll: -0.069. Train acc: 0.983 \n"
     ]
    },
    {
     "name": "stderr",
     "output_type": "stream",
     "text": [
      "Epoch:   2%|▏         | 15/1000 [00:01<01:35, 10.36it/s, elbo=17.7, kl=-17.8, ll=-.117, logt=0, lr=0.002]\n",
      "Epoch:   1%|          | 9/1000 [00:00<01:38, 10.08it/s, elbo=17.8, kl=-17.9, ll=-.109, logt=0, lr=0.002]\n",
      "Epoch:   2%|▏         | 15/1000 [00:01<01:31, 10.76it/s, elbo=17.9, kl=-18.1, ll=-.104, logt=0, lr=0.002]\n",
      "Epoch:   1%|          | 11/1000 [00:01<01:32, 10.73it/s, elbo=17.9, kl=-18, ll=-.126, logt=0, lr=0.002]\n",
      "Epoch:   1%|          | 12/1000 [00:01<01:38, 10.06it/s, elbo=17.8, kl=-17.9, ll=-.122, logt=0, lr=0.002]\n",
      "Epoch:   1%|▏         | 13/1000 [00:01<01:33, 10.55it/s, elbo=17.7, kl=-17.9, ll=-.126, logt=0, lr=0.002]\n",
      "Epoch:   2%|▏         | 17/1000 [00:01<01:30, 10.91it/s, elbo=17.9, kl=-18, ll=-.112, logt=0, lr=0.002]\n",
      "Epoch:   1%|▏         | 14/1000 [00:01<01:33, 10.50it/s, elbo=18, kl=-18.1, ll=-.116, logt=0, lr=0.002]\n",
      "Epoch:   2%|▏         | 20/1000 [00:01<01:33, 10.51it/s, elbo=18.1, kl=-18.2, ll=-.109, logt=0, lr=0.002]\n",
      "Epoch:   1%|▏         | 14/1000 [00:01<01:36, 10.24it/s, elbo=18.2, kl=-18.3, ll=-.112, logt=0, lr=0.002]\n",
      "                       \r"
     ]
    },
    {
     "name": "stdout",
     "output_type": "stream",
     "text": [
      "Test mll: -0.084. Test acc: 0.976. Train mll: -0.069. Train acc: 0.984 \n"
     ]
    }
   ],
   "source": [
    "i = 0\n",
    "\n",
    "# with tqdm(total=server_config['max_iterations'], position=0, leave=True) as pbar:\n",
    "while not server.should_stop():\n",
    "  server.tick()\n",
    "  \n",
    "  # Obtain performance metrics.\n",
    "  metrics = server.log[\"performance_metrics\"][-1]\n",
    "  # print(\"Iterations: {}.\".format(i))\n",
    "  # print(\"Time taken: {:.3f}.\".format(metrics[\"time\"]))\n",
    "\n",
    "  report = \"Test mll: {:.3f}. Test acc: {:.3f}. Train mll: {:.3f}. Train acc: {:.3f} \".format(metrics[\"val_mll\"], metrics[\"val_acc\"], metrics[\"train_mll\"], metrics[\"train_acc\"])\n",
    "  print('\\r'+report, flush=True)\n",
    "  # print(\n",
    "  #   \"Test mll: {:.3f}. Test acc: {:.3f}.\".format(\n",
    "  #       metrics[\"val_mll\"], metrics[\"val_acc\"]\n",
    "  #   )\n",
    "  # )\n",
    "  # print(\n",
    "  #   \"Train mll: {:.3f}. Train acc: {:.3f}.\\n\".format(\n",
    "  #       metrics[\"train_mll\"], metrics[\"train_acc\"]\n",
    "  #   )\n",
    "  # )\n",
    "  # pbar.update(1)\n",
    "  i += 1"
   ]
  },
  {
   "cell_type": "code",
   "execution_count": null,
   "id": "550cc428-c405-4c2a-a8a9-2e3a755cb676",
   "metadata": {},
   "outputs": [],
   "source": [
    "Same speed for both"
   ]
  }
 ],
 "metadata": {
  "interpreter": {
   "hash": "03554a3b958796e9f601eb4c099ea8a724837ec686441e47caabab69f1671920"
  },
  "kernelspec": {
   "display_name": "Python 3.7.12 ('venv': virtualenv)",
   "language": "python",
   "name": "python3"
  },
  "language_info": {
   "codemirror_mode": {
    "name": "ipython",
    "version": 3
   },
   "file_extension": ".py",
   "mimetype": "text/x-python",
   "name": "python",
   "nbconvert_exporter": "python",
   "pygments_lexer": "ipython3",
   "version": "3.7.12"
  }
 },
 "nbformat": 4,
 "nbformat_minor": 5
}
